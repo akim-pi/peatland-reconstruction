{
 "cells": [
  {
   "cell_type": "code",
   "execution_count": 1,
   "id": "501fdd24",
   "metadata": {},
   "outputs": [
    {
     "name": "stderr",
     "output_type": "stream",
     "text": [
      "c:\\users\\akimp\\appdata\\local\\programs\\python\\python39\\lib\\site-packages\\numpy\\_distributor_init.py:30: UserWarning: loaded more than 1 DLL from .libs:\n",
      "c:\\users\\akimp\\appdata\\local\\programs\\python\\python39\\lib\\site-packages\\numpy\\.libs\\libopenblas.EL2C6PLE4ZYW3ECEVIV3OXXGRN2NRFM2.gfortran-win_amd64.dll\n",
      "c:\\users\\akimp\\appdata\\local\\programs\\python\\python39\\lib\\site-packages\\numpy\\.libs\\libopenblas.XWYDX2IKJW2NMTWSFYNGFUWKQU3LYTCZ.gfortran-win_amd64.dll\n",
      "  warnings.warn(\"loaded more than 1 DLL from .libs:\"\n"
     ]
    }
   ],
   "source": [
    "import numpy as np\n",
    "import pandas as pd\n",
    "import seaborn as sns\n",
    "import matplotlib.pyplot as plt\n",
    "from datetime import datetime\n",
    "import xlrd"
   ]
  },
  {
   "cell_type": "markdown",
   "id": "92ca0fb9",
   "metadata": {},
   "source": [
    "# Read data"
   ]
  },
  {
   "cell_type": "code",
   "execution_count": 23,
   "id": "58847174",
   "metadata": {},
   "outputs": [
    {
     "data": {
      "text/html": [
       "<div>\n",
       "<style scoped>\n",
       "    .dataframe tbody tr th:only-of-type {\n",
       "        vertical-align: middle;\n",
       "    }\n",
       "\n",
       "    .dataframe tbody tr th {\n",
       "        vertical-align: top;\n",
       "    }\n",
       "\n",
       "    .dataframe thead th {\n",
       "        text-align: right;\n",
       "    }\n",
       "</style>\n",
       "<table border=\"1\" class=\"dataframe\">\n",
       "  <thead>\n",
       "    <tr style=\"text-align: right;\">\n",
       "      <th></th>\n",
       "      <th>rain</th>\n",
       "      <th>soil</th>\n",
       "      <th>gwl</th>\n",
       "      <th>temp</th>\n",
       "    </tr>\n",
       "    <tr>\n",
       "      <th>date</th>\n",
       "      <th></th>\n",
       "      <th></th>\n",
       "      <th></th>\n",
       "      <th></th>\n",
       "    </tr>\n",
       "  </thead>\n",
       "  <tbody>\n",
       "    <tr>\n",
       "      <th>2018-11-10 11:40:00</th>\n",
       "      <td>0.4</td>\n",
       "      <td>3.2</td>\n",
       "      <td>-1.1266</td>\n",
       "      <td>30.7</td>\n",
       "    </tr>\n",
       "    <tr>\n",
       "      <th>2018-11-10 11:50:00</th>\n",
       "      <td>0.0</td>\n",
       "      <td>3.2</td>\n",
       "      <td>-1.1266</td>\n",
       "      <td>30.7</td>\n",
       "    </tr>\n",
       "    <tr>\n",
       "      <th>2018-11-10 12:00:00</th>\n",
       "      <td>0.0</td>\n",
       "      <td>3.2</td>\n",
       "      <td>-1.1266</td>\n",
       "      <td>30.7</td>\n",
       "    </tr>\n",
       "    <tr>\n",
       "      <th>2018-11-10 12:10:00</th>\n",
       "      <td>0.0</td>\n",
       "      <td>3.2</td>\n",
       "      <td>-1.1100</td>\n",
       "      <td>31.1</td>\n",
       "    </tr>\n",
       "    <tr>\n",
       "      <th>2018-11-10 12:20:00</th>\n",
       "      <td>0.0</td>\n",
       "      <td>3.2</td>\n",
       "      <td>-1.1100</td>\n",
       "      <td>31.1</td>\n",
       "    </tr>\n",
       "    <tr>\n",
       "      <th>...</th>\n",
       "      <td>...</td>\n",
       "      <td>...</td>\n",
       "      <td>...</td>\n",
       "      <td>...</td>\n",
       "    </tr>\n",
       "    <tr>\n",
       "      <th>2020-01-10 02:00:00</th>\n",
       "      <td>0.0</td>\n",
       "      <td>29.0</td>\n",
       "      <td>-0.8760</td>\n",
       "      <td>29.5</td>\n",
       "    </tr>\n",
       "    <tr>\n",
       "      <th>2020-01-10 02:10:00</th>\n",
       "      <td>0.0</td>\n",
       "      <td>29.0</td>\n",
       "      <td>-0.8860</td>\n",
       "      <td>29.5</td>\n",
       "    </tr>\n",
       "    <tr>\n",
       "      <th>2020-01-10 02:20:00</th>\n",
       "      <td>0.0</td>\n",
       "      <td>29.0</td>\n",
       "      <td>-0.8810</td>\n",
       "      <td>29.5</td>\n",
       "    </tr>\n",
       "    <tr>\n",
       "      <th>2020-01-10 02:30:00</th>\n",
       "      <td>0.0</td>\n",
       "      <td>28.6</td>\n",
       "      <td>-0.8780</td>\n",
       "      <td>29.5</td>\n",
       "    </tr>\n",
       "    <tr>\n",
       "      <th>2020-01-10 02:40:00</th>\n",
       "      <td>0.0</td>\n",
       "      <td>29.0</td>\n",
       "      <td>-0.8760</td>\n",
       "      <td>29.5</td>\n",
       "    </tr>\n",
       "  </tbody>\n",
       "</table>\n",
       "<p>53324 rows × 4 columns</p>\n",
       "</div>"
      ],
      "text/plain": [
       "                     rain  soil     gwl  temp\n",
       "date                                         \n",
       "2018-11-10 11:40:00   0.4   3.2 -1.1266  30.7\n",
       "2018-11-10 11:50:00   0.0   3.2 -1.1266  30.7\n",
       "2018-11-10 12:00:00   0.0   3.2 -1.1266  30.7\n",
       "2018-11-10 12:10:00   0.0   3.2 -1.1100  31.1\n",
       "2018-11-10 12:20:00   0.0   3.2 -1.1100  31.1\n",
       "...                   ...   ...     ...   ...\n",
       "2020-01-10 02:00:00   0.0  29.0 -0.8760  29.5\n",
       "2020-01-10 02:10:00   0.0  29.0 -0.8860  29.5\n",
       "2020-01-10 02:20:00   0.0  29.0 -0.8810  29.5\n",
       "2020-01-10 02:30:00   0.0  28.6 -0.8780  29.5\n",
       "2020-01-10 02:40:00   0.0  29.0 -0.8760  29.5\n",
       "\n",
       "[53324 rows x 4 columns]"
      ]
     },
     "execution_count": 23,
     "metadata": {},
     "output_type": "execute_result"
    }
   ],
   "source": [
    "dataset = pd.read_pickle(\"impute/Cinta Jaya 1_knn.pkl\")\n",
    "dataset"
   ]
  },
  {
   "cell_type": "markdown",
   "id": "8c321ba6",
   "metadata": {},
   "source": [
    "# LSTM (Multivariate)"
   ]
  },
  {
   "cell_type": "code",
   "execution_count": 14,
   "id": "26f0cea1",
   "metadata": {},
   "outputs": [],
   "source": [
    "# prepare data for lstm\n",
    "from pandas import read_csv\n",
    "from pandas import DataFrame\n",
    "from pandas import concat\n",
    "from sklearn.preprocessing import LabelEncoder\n",
    "from sklearn.preprocessing import MinMaxScaler\n",
    "from sklearn.metrics import mean_squared_error\n",
    "from keras.models import Sequential\n",
    "from keras.layers import Dense\n",
    "from keras.layers import Dropout\n",
    "from keras.layers import LSTM"
   ]
  },
  {
   "cell_type": "code",
   "execution_count": 4,
   "id": "a5e417b9",
   "metadata": {},
   "outputs": [],
   "source": [
    "# convert series to supervised learning\n",
    "def series_to_supervised(data, n_in=1, n_out=1, dropnan=True):\n",
    "    n_vars = 1 if type(data) is list else data.shape[1]\n",
    "    df = DataFrame(data)\n",
    "    cols, names = list(), list()\n",
    "    \n",
    "    # input sequence (t-n, ... t-1)\n",
    "    for i in range(n_in, 0, -1):\n",
    "        cols.append(df.shift(i))\n",
    "        names += [('var%d(t-%d)' % (j+1, i)) for j in range(n_vars)]\n",
    "    \n",
    "    # forecast sequence (t, t+1, ... t+n)\n",
    "    for i in range(0, n_out):\n",
    "        cols.append(df.shift(-i))\n",
    "    if i == 0:\n",
    "        names += [('var%d(t)' % (j+1)) for j in range(n_vars)]\n",
    "    else:\n",
    "        names += [('var%d(t+%d)' % (j+1, i)) for j in range(n_vars)]\n",
    "    \n",
    "    # put it all together\n",
    "    agg = concat(cols, axis=1)\n",
    "    agg.columns = names\n",
    "    \n",
    "    # drop rows with NaN values\n",
    "    if dropnan:\n",
    "        agg.dropna(inplace=True)\n",
    "    return agg"
   ]
  },
  {
   "cell_type": "code",
   "execution_count": 24,
   "id": "124911d1",
   "metadata": {},
   "outputs": [],
   "source": [
    "values = dataset.values"
   ]
  },
  {
   "cell_type": "code",
   "execution_count": 25,
   "id": "d3c20a65",
   "metadata": {},
   "outputs": [
    {
     "data": {
      "text/plain": [
       "array([[0.00227531, 0.03459459, 0.04293333, 0.89766082],\n",
       "       [0.        , 0.03459459, 0.04293333, 0.89766082],\n",
       "       [0.        , 0.03459459, 0.04293333, 0.89766082],\n",
       "       ...,\n",
       "       [0.        , 0.31351351, 0.20666667, 0.8625731 ],\n",
       "       [0.        , 0.30918919, 0.20866667, 0.8625731 ],\n",
       "       [0.        , 0.31351351, 0.21      , 0.8625731 ]])"
      ]
     },
     "execution_count": 25,
     "metadata": {},
     "output_type": "execute_result"
    }
   ],
   "source": [
    "scaler = MinMaxScaler(feature_range=(0,1))\n",
    "scaled = scaler.fit_transform(values)\n",
    "scaled"
   ]
  },
  {
   "cell_type": "code",
   "execution_count": 26,
   "id": "0953a481",
   "metadata": {},
   "outputs": [
    {
     "data": {
      "text/html": [
       "<div>\n",
       "<style scoped>\n",
       "    .dataframe tbody tr th:only-of-type {\n",
       "        vertical-align: middle;\n",
       "    }\n",
       "\n",
       "    .dataframe tbody tr th {\n",
       "        vertical-align: top;\n",
       "    }\n",
       "\n",
       "    .dataframe thead th {\n",
       "        text-align: right;\n",
       "    }\n",
       "</style>\n",
       "<table border=\"1\" class=\"dataframe\">\n",
       "  <thead>\n",
       "    <tr style=\"text-align: right;\">\n",
       "      <th></th>\n",
       "      <th>var1(t-1)</th>\n",
       "      <th>var2(t-1)</th>\n",
       "      <th>var3(t-1)</th>\n",
       "      <th>var4(t-1)</th>\n",
       "      <th>var1(t)</th>\n",
       "      <th>var2(t)</th>\n",
       "      <th>var3(t)</th>\n",
       "      <th>var4(t)</th>\n",
       "    </tr>\n",
       "  </thead>\n",
       "  <tbody>\n",
       "    <tr>\n",
       "      <th>1</th>\n",
       "      <td>0.002275</td>\n",
       "      <td>0.034595</td>\n",
       "      <td>0.042933</td>\n",
       "      <td>0.897661</td>\n",
       "      <td>0.0</td>\n",
       "      <td>0.034595</td>\n",
       "      <td>0.042933</td>\n",
       "      <td>0.897661</td>\n",
       "    </tr>\n",
       "    <tr>\n",
       "      <th>2</th>\n",
       "      <td>0.000000</td>\n",
       "      <td>0.034595</td>\n",
       "      <td>0.042933</td>\n",
       "      <td>0.897661</td>\n",
       "      <td>0.0</td>\n",
       "      <td>0.034595</td>\n",
       "      <td>0.042933</td>\n",
       "      <td>0.897661</td>\n",
       "    </tr>\n",
       "    <tr>\n",
       "      <th>3</th>\n",
       "      <td>0.000000</td>\n",
       "      <td>0.034595</td>\n",
       "      <td>0.042933</td>\n",
       "      <td>0.897661</td>\n",
       "      <td>0.0</td>\n",
       "      <td>0.034595</td>\n",
       "      <td>0.054000</td>\n",
       "      <td>0.909357</td>\n",
       "    </tr>\n",
       "    <tr>\n",
       "      <th>4</th>\n",
       "      <td>0.000000</td>\n",
       "      <td>0.034595</td>\n",
       "      <td>0.054000</td>\n",
       "      <td>0.909357</td>\n",
       "      <td>0.0</td>\n",
       "      <td>0.034595</td>\n",
       "      <td>0.054000</td>\n",
       "      <td>0.909357</td>\n",
       "    </tr>\n",
       "    <tr>\n",
       "      <th>5</th>\n",
       "      <td>0.000000</td>\n",
       "      <td>0.034595</td>\n",
       "      <td>0.054000</td>\n",
       "      <td>0.909357</td>\n",
       "      <td>0.0</td>\n",
       "      <td>0.034595</td>\n",
       "      <td>0.054000</td>\n",
       "      <td>0.909357</td>\n",
       "    </tr>\n",
       "    <tr>\n",
       "      <th>...</th>\n",
       "      <td>...</td>\n",
       "      <td>...</td>\n",
       "      <td>...</td>\n",
       "      <td>...</td>\n",
       "      <td>...</td>\n",
       "      <td>...</td>\n",
       "      <td>...</td>\n",
       "      <td>...</td>\n",
       "    </tr>\n",
       "    <tr>\n",
       "      <th>53319</th>\n",
       "      <td>0.000000</td>\n",
       "      <td>0.313514</td>\n",
       "      <td>0.208667</td>\n",
       "      <td>0.862573</td>\n",
       "      <td>0.0</td>\n",
       "      <td>0.313514</td>\n",
       "      <td>0.210000</td>\n",
       "      <td>0.862573</td>\n",
       "    </tr>\n",
       "    <tr>\n",
       "      <th>53320</th>\n",
       "      <td>0.000000</td>\n",
       "      <td>0.313514</td>\n",
       "      <td>0.210000</td>\n",
       "      <td>0.862573</td>\n",
       "      <td>0.0</td>\n",
       "      <td>0.313514</td>\n",
       "      <td>0.203333</td>\n",
       "      <td>0.862573</td>\n",
       "    </tr>\n",
       "    <tr>\n",
       "      <th>53321</th>\n",
       "      <td>0.000000</td>\n",
       "      <td>0.313514</td>\n",
       "      <td>0.203333</td>\n",
       "      <td>0.862573</td>\n",
       "      <td>0.0</td>\n",
       "      <td>0.313514</td>\n",
       "      <td>0.206667</td>\n",
       "      <td>0.862573</td>\n",
       "    </tr>\n",
       "    <tr>\n",
       "      <th>53322</th>\n",
       "      <td>0.000000</td>\n",
       "      <td>0.313514</td>\n",
       "      <td>0.206667</td>\n",
       "      <td>0.862573</td>\n",
       "      <td>0.0</td>\n",
       "      <td>0.309189</td>\n",
       "      <td>0.208667</td>\n",
       "      <td>0.862573</td>\n",
       "    </tr>\n",
       "    <tr>\n",
       "      <th>53323</th>\n",
       "      <td>0.000000</td>\n",
       "      <td>0.309189</td>\n",
       "      <td>0.208667</td>\n",
       "      <td>0.862573</td>\n",
       "      <td>0.0</td>\n",
       "      <td>0.313514</td>\n",
       "      <td>0.210000</td>\n",
       "      <td>0.862573</td>\n",
       "    </tr>\n",
       "  </tbody>\n",
       "</table>\n",
       "<p>53323 rows × 8 columns</p>\n",
       "</div>"
      ],
      "text/plain": [
       "       var1(t-1)  var2(t-1)  var3(t-1)  var4(t-1)  var1(t)   var2(t)  \\\n",
       "1       0.002275   0.034595   0.042933   0.897661      0.0  0.034595   \n",
       "2       0.000000   0.034595   0.042933   0.897661      0.0  0.034595   \n",
       "3       0.000000   0.034595   0.042933   0.897661      0.0  0.034595   \n",
       "4       0.000000   0.034595   0.054000   0.909357      0.0  0.034595   \n",
       "5       0.000000   0.034595   0.054000   0.909357      0.0  0.034595   \n",
       "...          ...        ...        ...        ...      ...       ...   \n",
       "53319   0.000000   0.313514   0.208667   0.862573      0.0  0.313514   \n",
       "53320   0.000000   0.313514   0.210000   0.862573      0.0  0.313514   \n",
       "53321   0.000000   0.313514   0.203333   0.862573      0.0  0.313514   \n",
       "53322   0.000000   0.313514   0.206667   0.862573      0.0  0.309189   \n",
       "53323   0.000000   0.309189   0.208667   0.862573      0.0  0.313514   \n",
       "\n",
       "        var3(t)   var4(t)  \n",
       "1      0.042933  0.897661  \n",
       "2      0.042933  0.897661  \n",
       "3      0.054000  0.909357  \n",
       "4      0.054000  0.909357  \n",
       "5      0.054000  0.909357  \n",
       "...         ...       ...  \n",
       "53319  0.210000  0.862573  \n",
       "53320  0.203333  0.862573  \n",
       "53321  0.206667  0.862573  \n",
       "53322  0.208667  0.862573  \n",
       "53323  0.210000  0.862573  \n",
       "\n",
       "[53323 rows x 8 columns]"
      ]
     },
     "execution_count": 26,
     "metadata": {},
     "output_type": "execute_result"
    }
   ],
   "source": [
    "reframed = series_to_supervised(scaled, 1, 1)\n",
    "reframed"
   ]
  },
  {
   "cell_type": "code",
   "execution_count": 27,
   "id": "c35c2edc",
   "metadata": {},
   "outputs": [],
   "source": [
    "n_train = round(53323 * 0.8)\n",
    "\n",
    "values = reframed.values"
   ]
  },
  {
   "cell_type": "code",
   "execution_count": 28,
   "id": "fefa2b72",
   "metadata": {},
   "outputs": [],
   "source": [
    "train = values[:n_train, :]\n",
    "test  = values[n_train:, :]"
   ]
  },
  {
   "cell_type": "code",
   "execution_count": 29,
   "id": "a2284434",
   "metadata": {},
   "outputs": [],
   "source": [
    "train_X, train_y = train[:, :-1], train[:, -1]\n",
    "test_X, test_y = test[:, :-1], test[:, -1]"
   ]
  },
  {
   "cell_type": "code",
   "execution_count": 30,
   "id": "61dd198e",
   "metadata": {},
   "outputs": [
    {
     "name": "stdout",
     "output_type": "stream",
     "text": [
      "(42658, 1, 7) (42658,) (10665, 1, 7) (10665,)\n"
     ]
    }
   ],
   "source": [
    "train_X = train_X.reshape((train_X.shape[0], 1, train_X.shape[1]))\n",
    "test_X = test_X.reshape((test_X.shape[0], 1, test_X.shape[1]))\n",
    "print(train_X.shape, train_y.shape, test_X.shape, test_y.shape)"
   ]
  },
  {
   "cell_type": "code",
   "execution_count": 31,
   "id": "e71e4f98",
   "metadata": {},
   "outputs": [],
   "source": [
    "# design network\n",
    "model = Sequential()\n",
    "model.add(LSTM(10, input_shape=(train_X.shape[1], train_X.shape[2])))\n",
    "model.add(Dropout(0.2))\n",
    "model.add(Dense(0.1, activation='relu'))\n",
    "model.add(Dropout(0.2))\n",
    "model.add(Dense(1))\n",
    "model.compile(loss='mae', optimizer='adam')"
   ]
  },
  {
   "cell_type": "markdown",
   "id": "08d35b89",
   "metadata": {},
   "source": [
    "cobain boxplot\n",
    "bandingan dengan fbprophet\n",
    "\n",
    "minmax scaler negative\n",
    "\n",
    "Gridsearch\n",
    "randomsearch\n",
    "bayesiansearch\n",
    "metode cari optimal hyperparameter"
   ]
  },
  {
   "cell_type": "code",
   "execution_count": 32,
   "id": "4372e2b8",
   "metadata": {},
   "outputs": [
    {
     "name": "stdout",
     "output_type": "stream",
     "text": [
      "Epoch 1/20\n",
      "593/593 - 6s - loss: 0.8918 - val_loss: 0.9287 - 6s/epoch - 10ms/step\n",
      "Epoch 2/20\n",
      "593/593 - 2s - loss: 0.8918 - val_loss: 0.9287 - 2s/epoch - 3ms/step\n",
      "Epoch 3/20\n",
      "593/593 - 2s - loss: 0.8918 - val_loss: 0.9287 - 2s/epoch - 3ms/step\n",
      "Epoch 4/20\n",
      "593/593 - 2s - loss: 0.8918 - val_loss: 0.9287 - 2s/epoch - 4ms/step\n",
      "Epoch 5/20\n",
      "593/593 - 2s - loss: 0.8918 - val_loss: 0.9287 - 2s/epoch - 3ms/step\n",
      "Epoch 6/20\n",
      "593/593 - 2s - loss: 0.8918 - val_loss: 0.9287 - 2s/epoch - 3ms/step\n",
      "Epoch 7/20\n",
      "593/593 - 2s - loss: 0.8918 - val_loss: 0.9287 - 2s/epoch - 3ms/step\n",
      "Epoch 8/20\n",
      "593/593 - 2s - loss: 0.8918 - val_loss: 0.9287 - 2s/epoch - 3ms/step\n",
      "Epoch 9/20\n",
      "593/593 - 1s - loss: 0.8918 - val_loss: 0.9287 - 1s/epoch - 2ms/step\n",
      "Epoch 10/20\n",
      "593/593 - 2s - loss: 0.8918 - val_loss: 0.9287 - 2s/epoch - 3ms/step\n",
      "Epoch 11/20\n",
      "593/593 - 1s - loss: 0.8918 - val_loss: 0.9287 - 1s/epoch - 3ms/step\n",
      "Epoch 12/20\n",
      "593/593 - 2s - loss: 0.8918 - val_loss: 0.9287 - 2s/epoch - 3ms/step\n",
      "Epoch 13/20\n",
      "593/593 - 2s - loss: 0.8918 - val_loss: 0.9287 - 2s/epoch - 3ms/step\n",
      "Epoch 14/20\n",
      "593/593 - 2s - loss: 0.8918 - val_loss: 0.9287 - 2s/epoch - 3ms/step\n",
      "Epoch 15/20\n",
      "593/593 - 2s - loss: 0.8918 - val_loss: 0.9287 - 2s/epoch - 3ms/step\n",
      "Epoch 16/20\n",
      "593/593 - 2s - loss: 0.8918 - val_loss: 0.9287 - 2s/epoch - 3ms/step\n",
      "Epoch 17/20\n",
      "593/593 - 2s - loss: 0.8918 - val_loss: 0.9287 - 2s/epoch - 3ms/step\n",
      "Epoch 18/20\n",
      "593/593 - 2s - loss: 0.8918 - val_loss: 0.9287 - 2s/epoch - 3ms/step\n",
      "Epoch 19/20\n",
      "593/593 - 2s - loss: 0.8918 - val_loss: 0.9287 - 2s/epoch - 4ms/step\n",
      "Epoch 20/20\n",
      "593/593 - 2s - loss: 0.8918 - val_loss: 0.9287 - 2s/epoch - 4ms/step\n"
     ]
    }
   ],
   "source": [
    "# fit network\n",
    "history = model.fit(train_X, train_y, epochs=20, batch_size=72, validation_data=(test_X, test_y), verbose=2, shuffle=False)"
   ]
  },
  {
   "cell_type": "code",
   "execution_count": 33,
   "id": "e5d9b011",
   "metadata": {},
   "outputs": [
    {
     "data": {
      "image/png": "[encoded data removed]",
      "text/plain": [
       "<Figure size 432x288 with 1 Axes>"
      ]
     },
     "metadata": {
      "needs_background": "light"
     },
     "output_type": "display_data"
    }
   ],
   "source": [
    "from matplotlib import pyplot\n",
    "# plot history\n",
    "pyplot.plot(history.history['loss'], label='train')\n",
    "pyplot.plot(history.history['val_loss'], label='test')\n",
    "pyplot.legend()\n",
    "pyplot.show()"
   ]
  },
  {
   "cell_type": "code",
   "execution_count": 34,
   "id": "d1c2d417",
   "metadata": {},
   "outputs": [
    {
     "name": "stdout",
     "output_type": "stream",
     "text": [
      "334/334 [==============================] - 1s 2ms/step\n"
     ]
    }
   ],
   "source": [
    "from math import sqrt\n",
    "from numpy import concatenate\n",
    "\n",
    "# make a prediction\n",
    "yhat = model.predict(test_X)\n",
    "test_X = test_X.reshape((test_X.shape[0], test_X.shape[2]))"
   ]
  },
  {
   "cell_type": "code",
   "execution_count": 35,
   "id": "bacee06b",
   "metadata": {},
   "outputs": [
    {
     "ename": "ValueError",
     "evalue": "operands could not be broadcast together with shapes (10665,7) (4,) (10665,7) ",
     "output_type": "error",
     "traceback": [
      "\u001b[1;31m---------------------------------------------------------------------------\u001b[0m",
      "\u001b[1;31mValueError\u001b[0m                                Traceback (most recent call last)",
      "\u001b[1;32m<ipython-input-35-b260a39f6eb1>\u001b[0m in \u001b[0;36m<module>\u001b[1;34m\u001b[0m\n\u001b[0;32m      1\u001b[0m \u001b[1;31m# invert scaling for forecast\u001b[0m\u001b[1;33m\u001b[0m\u001b[1;33m\u001b[0m\u001b[1;33m\u001b[0m\u001b[0m\n\u001b[0;32m      2\u001b[0m \u001b[0minv_yhat\u001b[0m \u001b[1;33m=\u001b[0m \u001b[0mconcatenate\u001b[0m\u001b[1;33m(\u001b[0m\u001b[1;33m(\u001b[0m\u001b[0myhat\u001b[0m\u001b[1;33m,\u001b[0m \u001b[0mtest_X\u001b[0m\u001b[1;33m[\u001b[0m\u001b[1;33m:\u001b[0m\u001b[1;33m,\u001b[0m \u001b[1;36m1\u001b[0m\u001b[1;33m:\u001b[0m\u001b[1;33m]\u001b[0m\u001b[1;33m)\u001b[0m\u001b[1;33m,\u001b[0m \u001b[0maxis\u001b[0m\u001b[1;33m=\u001b[0m\u001b[1;36m1\u001b[0m\u001b[1;33m)\u001b[0m\u001b[1;33m\u001b[0m\u001b[1;33m\u001b[0m\u001b[0m\n\u001b[1;32m----> 3\u001b[1;33m \u001b[0minv_yhat\u001b[0m \u001b[1;33m=\u001b[0m \u001b[0mscaler\u001b[0m\u001b[1;33m.\u001b[0m\u001b[0minverse_transform\u001b[0m\u001b[1;33m(\u001b[0m\u001b[0minv_yhat\u001b[0m\u001b[1;33m)\u001b[0m\u001b[1;33m\u001b[0m\u001b[1;33m\u001b[0m\u001b[0m\n\u001b[0m\u001b[0;32m      4\u001b[0m \u001b[0minv_yhat\u001b[0m \u001b[1;33m=\u001b[0m \u001b[0minv_yhat\u001b[0m\u001b[1;33m[\u001b[0m\u001b[1;33m:\u001b[0m\u001b[1;33m,\u001b[0m\u001b[1;36m0\u001b[0m\u001b[1;33m]\u001b[0m\u001b[1;33m\u001b[0m\u001b[1;33m\u001b[0m\u001b[0m\n\u001b[0;32m      5\u001b[0m \u001b[1;33m\u001b[0m\u001b[0m\n",
      "\u001b[1;32mc:\\users\\akimp\\appdata\\local\\programs\\python\\python39\\lib\\site-packages\\sklearn\\preprocessing\\_data.py\u001b[0m in \u001b[0;36minverse_transform\u001b[1;34m(self, X)\u001b[0m\n\u001b[0;32m    539\u001b[0m         )\n\u001b[0;32m    540\u001b[0m \u001b[1;33m\u001b[0m\u001b[0m\n\u001b[1;32m--> 541\u001b[1;33m         \u001b[0mX\u001b[0m \u001b[1;33m-=\u001b[0m \u001b[0mself\u001b[0m\u001b[1;33m.\u001b[0m\u001b[0mmin_\u001b[0m\u001b[1;33m\u001b[0m\u001b[1;33m\u001b[0m\u001b[0m\n\u001b[0m\u001b[0;32m    542\u001b[0m         \u001b[0mX\u001b[0m \u001b[1;33m/=\u001b[0m \u001b[0mself\u001b[0m\u001b[1;33m.\u001b[0m\u001b[0mscale_\u001b[0m\u001b[1;33m\u001b[0m\u001b[1;33m\u001b[0m\u001b[0m\n\u001b[0;32m    543\u001b[0m         \u001b[1;32mreturn\u001b[0m \u001b[0mX\u001b[0m\u001b[1;33m\u001b[0m\u001b[1;33m\u001b[0m\u001b[0m\n",
      "\u001b[1;31mValueError\u001b[0m: operands could not be broadcast together with shapes (10665,7) (4,) (10665,7) "
     ]
    }
   ],
   "source": [
    "# invert scaling for forecast\n",
    "inv_yhat = concatenate((yhat, test_X[:, 1:]), axis=1)\n",
    "inv_yhat = scaler.inverse_transform(inv_yhat)\n",
    "inv_yhat = inv_yhat[:,0]\n",
    "\n",
    "# invert scaling for actual\n",
    "test_y = test_y.reshape((len(test_y), 1))\n",
    "inv_y = concatenate((test_y, test_X[:, 1:]), axis=1)\n",
    "inv_y = scaler.inverse_transform(inv_y)\n",
    "inv_y = inv_y[:,0]"
   ]
  },
  {
   "cell_type": "code",
   "execution_count": null,
   "id": "f56dec76",
   "metadata": {},
   "outputs": [],
   "source": [
    "# calculate RMSE\n",
    "rmse = sqrt(mean_squared_error(inv_y, inv_yhat))\n",
    "print('Test RMSE: %.3f' % rmse)"
   ]
  }
 ],
 "metadata": {
  "kernelspec": {
   "display_name": "Python 3",
   "language": "python",
   "name": "python3"
  },
  "language_info": {
   "codemirror_mode": {
    "name": "ipython",
    "version": 3
   },
   "file_extension": ".py",
   "mimetype": "text/x-python",
   "name": "python",
   "nbconvert_exporter": "python",
   "pygments_lexer": "ipython3",
   "version": "3.9.2"
  }
 },
 "nbformat": 4,
 "nbformat_minor": 5
}
